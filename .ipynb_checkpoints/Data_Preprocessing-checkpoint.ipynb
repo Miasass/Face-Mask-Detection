{
 "cells": [
  {
   "cell_type": "code",
   "execution_count": 70,
   "id": "framed-jesus",
   "metadata": {},
   "outputs": [],
   "source": [
    "import os\n",
    "import numpy as np\n",
    "import pandas as pd\n",
    "import matplotlib.pyplot as plt\n",
    "import shutil\n",
    "import plotly.graph_objects as go\n",
    "import xml.etree.ElementTree as ET\n",
    "\n",
    "from tensorflow.keras.preprocessing import image\n",
    "\n",
    "from tensorflow.keras.preprocessing.image import ImageDataGenerator\n",
    "\n",
    "from tensorflow.keras.models import Sequential\n",
    "\n",
    "from tensorflow.keras import layers\n",
    "\n",
    "from tensorflow.keras import optimizers"
   ]
  },
  {
   "cell_type": "code",
   "execution_count": 102,
   "id": "failing-knight",
   "metadata": {
    "scrolled": true
   },
   "outputs": [],
   "source": [
    "def all_xml_to_df(path,name_of_csv_file):\n",
    "    fnames = os.listdir(path)\n",
    "    all_data=[]\n",
    "    for fname in fnames:\n",
    "        data=[]\n",
    "        xml_data = open(path+'/'+fname, 'r').read()  # Read file\n",
    "        root = ET.XML(xml_data)  # Parse XML\n",
    "\n",
    "        for i, child in enumerate(root):\n",
    "            if i>=4:\n",
    "                data.append([subchild.text for subchild in child if subchild.tag == 'name'])\n",
    "                for subchild in child:\n",
    "                    for subsubchild in subchild:\n",
    "                        data[i-4].append(subsubchild.text)\n",
    "    \n",
    "        for i in range(len(data)):\n",
    "            data[i].append(fname)\n",
    "        \n",
    "        all_data.append(data)\n",
    "    \n",
    "    cols = ['state_of_mask','xmin','ymin','xmax','ymax','file_name']\n",
    "    for i,data in enumerate(all_data):\n",
    "        if i==0:\n",
    "            df = pd.DataFrame(data)\n",
    "        else:\n",
    "            temp_series = pd.DataFrame(data)\n",
    "            df = df.append(temp_series,ignore_index=True) \n",
    "    df.columns = cols\n",
    "    df.to_csv(name_of_csv_file)"
   ]
  },
  {
   "cell_type": "code",
   "execution_count": 103,
   "id": "included-coral",
   "metadata": {},
   "outputs": [],
   "source": [
    "all_xml_to_df('./Data/annotations','mask_data.csv')"
   ]
  },
  {
   "cell_type": "code",
   "execution_count": null,
   "id": "hollywood-person",
   "metadata": {},
   "outputs": [],
   "source": []
  },
  {
   "cell_type": "code",
   "execution_count": null,
   "id": "local-result",
   "metadata": {},
   "outputs": [],
   "source": []
  },
  {
   "cell_type": "code",
   "execution_count": null,
   "id": "resistant-spokesman",
   "metadata": {},
   "outputs": [],
   "source": []
  },
  {
   "cell_type": "code",
   "execution_count": null,
   "id": "involved-shower",
   "metadata": {},
   "outputs": [],
   "source": []
  },
  {
   "cell_type": "code",
   "execution_count": null,
   "id": "circular-garden",
   "metadata": {},
   "outputs": [],
   "source": []
  },
  {
   "cell_type": "code",
   "execution_count": null,
   "id": "english-victory",
   "metadata": {},
   "outputs": [],
   "source": []
  }
 ],
 "metadata": {
  "kernelspec": {
   "display_name": "Python 3",
   "language": "python",
   "name": "python3"
  },
  "language_info": {
   "codemirror_mode": {
    "name": "ipython",
    "version": 3
   },
   "file_extension": ".py",
   "mimetype": "text/x-python",
   "name": "python",
   "nbconvert_exporter": "python",
   "pygments_lexer": "ipython3",
   "version": "3.8.5"
  }
 },
 "nbformat": 4,
 "nbformat_minor": 5
}
