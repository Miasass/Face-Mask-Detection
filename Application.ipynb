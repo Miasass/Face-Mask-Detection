{
 "cells": [
  {
   "cell_type": "code",
   "execution_count": 1,
   "id": "level-meter",
   "metadata": {},
   "outputs": [
    {
     "name": "stdout",
     "output_type": "stream",
     "text": [
      "Collecting keyboard\n",
      "  Downloading keyboard-0.13.5-py3-none-any.whl (58 kB)\n",
      "Installing collected packages: keyboard\n",
      "Successfully installed keyboard-0.13.5\n"
     ]
    }
   ],
   "source": [
    "!pip install  keyboard"
   ]
  },
  {
   "cell_type": "code",
   "execution_count": 13,
   "id": "verified-filter",
   "metadata": {},
   "outputs": [
    {
     "name": "stdout",
     "output_type": "stream",
     "text": [
      "Collecting imutils\n",
      "  Downloading imutils-0.5.4.tar.gz (17 kB)\n",
      "Building wheels for collected packages: imutils\n",
      "  Building wheel for imutils (setup.py): started\n",
      "  Building wheel for imutils (setup.py): finished with status 'done'\n",
      "  Created wheel for imutils: filename=imutils-0.5.4-py3-none-any.whl size=25860 sha256=b27ddfacd58664e23a88aba9df40b9d8a8d994e53a9414a22cf9109468ca1e1a\n",
      "  Stored in directory: c:\\users\\miasa\\appdata\\local\\pip\\cache\\wheels\\59\\1b\\52\\0dea905f8278d5514dc4d0be5e251967f8681670cadd3dca89\n",
      "Successfully built imutils\n",
      "Installing collected packages: imutils\n",
      "Successfully installed imutils-0.5.4\n"
     ]
    }
   ],
   "source": [
    "!pip install imutils"
   ]
  },
  {
   "cell_type": "code",
   "execution_count": 6,
   "id": "failing-saint",
   "metadata": {},
   "outputs": [],
   "source": [
    "import cv2\n",
    "import numpy as np\n",
    "import keyboard\n",
    "import imutils\n",
    "from tensorflow.keras.models import Sequential\n",
    "from tensorflow.keras import layers\n",
    "from tensorflow.keras import optimizers\n",
    "\n",
    "face_cascade = cv2.CascadeClassifier('haarcascade_frontalface_alt2.xml')\n",
    "\n",
    "model = Sequential()\n",
    "\n",
    "model.add(layers.Conv2D(filters=16, kernel_size=(3, 3), activation='relu', input_shape=(50, 50, 3)))\n",
    "model.add(layers.MaxPooling2D(pool_size=(2, 2)))\n",
    "model.add(layers.Conv2D(filters=32, kernel_size=(3, 3), activation='relu'))\n",
    "model.add(layers.MaxPooling2D(pool_size=(2, 2)))\n",
    "model.add(layers.Conv2D(filters=64, kernel_size=(3, 3), activation='relu'))\n",
    "model.add(layers.Flatten())\n",
    "model.add(layers.Dense(units=256, activation='relu'))\n",
    "model.add(layers.Dense(units=64, activation='relu'))\n",
    "model.add(layers.Dense(units=3, activation='softmax'))\n",
    "\n",
    "model.compile(optimizer=optimizers.RMSprop(lr=1e-5),\n",
    "             loss='categorical_crossentropy',\n",
    "             metrics=['accuracy'])\n",
    "\n",
    "model.load_weights('best_model_weights.hdf5')\n",
    "\n",
    "\n",
    "cap = cv2.VideoCapture(0)\n",
    "\n",
    "while(True):\n",
    "    \n",
    "    ret, img = cap.read()\n",
    "    \n",
    "    img = cv2.cvtColor(img,cv2.COLOR_BGR2RGB)\n",
    "    \n",
    "    gray = cv2.cvtColor(img, cv2.COLOR_RGB2GRAY)\n",
    "    \n",
    "    faces = face_cascade.detectMultiScale(gray, scaleFactor=1.05, minNeighbors=6, minSize=(50,50))\n",
    "      \n",
    "    for (x,y,w,h) in faces:\n",
    "        \n",
    "        part_of_img = img[y:y+h,x:x+w]\n",
    "        part_of_img_resized = cv2.resize(part_of_img, (50,50), interpolation = cv2.INTER_AREA)\n",
    "        np_image_data = np.asarray(part_of_img_resized)\n",
    "        np_final = np.expand_dims(np_image_data,axis=0)\n",
    "        np_final = np_final * 1./255.\n",
    "        y_prob = model.predict(np_final)\n",
    "        y_pred = np.argmax(y_prob, axis=1)\n",
    "        \n",
    "        if y_pred == 0:\n",
    "            \n",
    "            cv2.rectangle(img,(x,y),(x+w,y+h),(255, 145, 0),2)\n",
    "            cv2.putText(img,text='Mask_Weared_Incorrect', org=(100, 50), \n",
    "                       \t       fontFace=cv2.FONT_HERSHEY_SIMPLEX, fontScale=0.5,\n",
    "                       \t       color=(255, 145, 0), thickness=1)\n",
    "            \n",
    "        elif y_pred == 1:\n",
    "            \n",
    "            cv2.rectangle(img,(x,y),(x+w,y+h),(0, 255, 0),2)\n",
    "            cv2.putText(img,text='MASK_WEARED', org=(100, 50), \n",
    "                       \t       fontFace=cv2.FONT_HERSHEY_SIMPLEX, fontScale=0.5,\n",
    "                       \t       color=(0, 255, 0), thickness=1)\n",
    "            \n",
    "        elif y_pred == 2:\n",
    "            \n",
    "            cv2.rectangle(img,(x,y),(x+w,y+h),(255,0,0),2)\n",
    "            cv2.putText(img,text='MASK_NOT_WEARED', org=(100, 50), \n",
    "                       \t       fontFace=cv2.FONT_HERSHEY_SIMPLEX, fontScale=0.5,\n",
    "                       \t       color=(255, 0, 0), thickness=1)\n",
    "            \n",
    "    img = cv2.cvtColor(img,cv2.COLOR_RGB2BGR)\n",
    "    cv2.imshow('Wykrywanie twarzy',img)\n",
    "    \n",
    "    if cv2.waitKey(1) and keyboard.is_pressed('ESC'): \n",
    "        break\n",
    "\n",
    "cap.release()\n",
    "cv2.destroyAllWindows()"
   ]
  }
 ],
 "metadata": {
  "kernelspec": {
   "display_name": "Python 3",
   "language": "python",
   "name": "python3"
  },
  "language_info": {
   "codemirror_mode": {
    "name": "ipython",
    "version": 3
   },
   "file_extension": ".py",
   "mimetype": "text/x-python",
   "name": "python",
   "nbconvert_exporter": "python",
   "pygments_lexer": "ipython3",
   "version": "3.8.5"
  }
 },
 "nbformat": 4,
 "nbformat_minor": 5
}
