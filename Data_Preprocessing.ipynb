{
 "cells": [
  {
   "cell_type": "code",
   "execution_count": 116,
   "id": "worthy-google",
   "metadata": {},
   "outputs": [],
   "source": [
    "import os\n",
    "import numpy as np\n",
    "import pandas as pd\n",
    "import shutil\n",
    "import xml.etree.ElementTree as ET\n",
    "import cv2"
   ]
  },
  {
   "cell_type": "markdown",
   "id": "incredible-tomorrow",
   "metadata": {},
   "source": [
    "### Połączenie wszystkich plików xml opisujących zdjęcia w jeden obiekt Data Frame"
   ]
  },
  {
   "cell_type": "code",
   "execution_count": 236,
   "id": "capital-participant",
   "metadata": {
    "scrolled": true
   },
   "outputs": [],
   "source": [
    "def all_xml_to_df(path,name_of_csv_file):\n",
    "    fnames = os.listdir(path)\n",
    "    all_data=[]\n",
    "    for fname in fnames:\n",
    "        data=[]\n",
    "        xml_data = open(path+'/'+fname, 'r').read()\n",
    "        root = ET.XML(xml_data)  \n",
    "\n",
    "        for i, child in enumerate(root):\n",
    "            if i>=4:\n",
    "                data.append([subchild.text for subchild in child if subchild.tag == 'name'])\n",
    "                for subchild in child:\n",
    "                    for subsubchild in subchild:\n",
    "                        data[i-4].append(subsubchild.text)\n",
    "    \n",
    "        for i in range(len(data)):\n",
    "            data[i].append(fname)\n",
    "        \n",
    "        all_data.append(data)\n",
    "    \n",
    "    cols = ['state_of_mask','xmin','ymin','xmax','ymax','file_name']\n",
    "    for i,data in enumerate(all_data):\n",
    "        if i==0:\n",
    "            df = pd.DataFrame(data)\n",
    "        else:\n",
    "            temp_DF = pd.DataFrame(data)\n",
    "            df = df.append(temp_DF,ignore_index=True)\n",
    "            \n",
    "    df.columns = cols\n",
    "    df.to_csv(name_of_csv_file)"
   ]
  },
  {
   "cell_type": "code",
   "execution_count": 237,
   "id": "governmental-uganda",
   "metadata": {},
   "outputs": [],
   "source": [
    "all_xml_to_df('./Data/annotations','mask_data.csv')"
   ]
  },
  {
   "cell_type": "markdown",
   "id": "foreign-designation",
   "metadata": {},
   "source": [
    "### Stworzenie nowych obrazów przez wycięcie fragmentów gdzie znajdowała się twarz z obrazów oryginalnych"
   ]
  },
  {
   "cell_type": "code",
   "execution_count": 252,
   "id": "brief-validity",
   "metadata": {},
   "outputs": [],
   "source": [
    "def create_new_images(path_to_csv_file,path_to_images,path_to_save_new_images,name_of_csv_file):\n",
    "    df=pd.read_csv(path_to_csv_file,index_col=0)\n",
    "    for i in range(len(df)):\n",
    "        name_of_folder = df.loc[i][0]\n",
    "        img = cv2.imread(filename=path_to_images+df.loc[i][-1].split('.')[0]+'.png')\n",
    "        face = img[int(df.loc[i][2]):int(df.loc[i][4]),int(df.loc[i][1]):int(df.loc[i][3])]\n",
    "        path=path_to_save_new_images+name_of_folder+'/'\n",
    "        file_name = str(i)+'.png'\n",
    "        cv2.imwrite(filename=path+file_name,img=face)\n",
    "        data = [df.loc[i][0],file_name]\n",
    "        if i==0:\n",
    "            df2 = pd.DataFrame([data])\n",
    "        else:\n",
    "            df2 = df2.append(pd.DataFrame([data]),ignore_index=True)\n",
    "            \n",
    "    df2.columns = ['state_of_mask','file_name']\n",
    "    df2.to_csv(name_of_csv_file)"
   ]
  },
  {
   "cell_type": "code",
   "execution_count": 253,
   "id": "differential-closure",
   "metadata": {},
   "outputs": [],
   "source": [
    "create_new_images('mask_data.csv','./Data/images/','./Data/images_after_preprocessing/','mask_data_v2.csv')"
   ]
  },
  {
   "cell_type": "markdown",
   "id": "neither-detector",
   "metadata": {},
   "source": [
    "### Stworzenie ścieżek i katalogów"
   ]
  },
  {
   "cell_type": "code",
   "execution_count": 256,
   "id": "clean-whale",
   "metadata": {},
   "outputs": [],
   "source": [
    "data_dir = './Data/done_images'\n",
    "\n",
    "train_dir = os.path.join(data_dir, 'train')\n",
    "valid_dir = os.path.join(data_dir, 'valid')\n",
    "test_dir = os.path.join(data_dir, 'test')\n",
    "\n",
    "train_with_mask_dir = os.path.join(train_dir, 'with_mask')\n",
    "train_without_mask_dir = os.path.join(train_dir, 'without_mask')\n",
    "train_mask_weared_incorrect_dir = os.path.join(train_dir, 'mask_weared_incorrect')\n",
    "\n",
    "valid_with_mask_dir = os.path.join(valid_dir, 'with_mask')\n",
    "valid_without_mask_dir = os.path.join(valid_dir, 'without_mask')\n",
    "valid_mask_weared_incorrect_dir = os.path.join(valid_dir, 'mask_weared_incorrect')\n",
    "\n",
    "test_with_mask_dir = os.path.join(test_dir, 'with_mask')\n",
    "test_without_mask_dir = os.path.join(test_dir, 'without_mask')\n",
    "test_mask_weared_incorrect_dir = os.path.join(test_dir, 'mask_weared_incorrect')\n",
    "\n",
    "for directory in (train_dir, valid_dir, test_dir):\n",
    "    if not os.path.exists(directory):\n",
    "        os.mkdir(directory)\n",
    "\n",
    "dirs = [train_with_mask_dir, train_without_mask_dir, train_mask_weared_incorrect_dir,\n",
    "        valid_with_mask_dir, valid_without_mask_dir, valid_mask_weared_incorrect_dir,\n",
    "        test_with_mask_dir, test_without_mask_dir, test_mask_weared_incorrect_dir]\n",
    "\n",
    "for dir in dirs:\n",
    "    if not os.path.exists(dir):\n",
    "        os.mkdir(dir)"
   ]
  },
  {
   "cell_type": "code",
   "execution_count": 257,
   "id": "underlying-relation",
   "metadata": {},
   "outputs": [],
   "source": [
    "with_mask_fnames = os.listdir(r'./Data/images_after_preprocessing\\with_mask')\n",
    "without_mask_fnames = os.listdir(r'./Data/images_after_preprocessing\\without_mask')\n",
    "mask_weared_incorrect_fnames = os.listdir(r'./Data/images_after_preprocessing\\mask_weared_incorrect')"
   ]
  },
  {
   "cell_type": "markdown",
   "id": "impressed-sellers",
   "metadata": {},
   "source": [
    "### Ustalenie liczby zdjęć dla zbioru treningowego, walidacyjnego oraz testowego"
   ]
  },
  {
   "cell_type": "code",
   "execution_count": 263,
   "id": "rapid-alaska",
   "metadata": {},
   "outputs": [],
   "source": [
    "size_with_mask = len(with_mask_fnames)\n",
    "size_without_mask = len(without_mask_fnames)\n",
    "size_mask_weared_incorrect = len(mask_weared_incorrect_fnames)\n",
    "\n",
    "train_size_with_mask = int(np.floor(0.8 * size_with_mask))\n",
    "valid_size_with_mask = int(np.floor(0.1 * size_with_mask))\n",
    "test_size_with_mask = size_with_mask - train_size_with_mask - valid_size_with_mask\n",
    "\n",
    "train_size_without_mask = int(np.floor(0.8 * size_without_mask))\n",
    "valid_size_without_mask = int(np.floor(0.1 * size_without_mask))\n",
    "test_size_without_mask = size_without_mask - train_size_without_mask - valid_size_without_mask\n",
    "\n",
    "train_size_mask_weared_incorrect = int(np.floor(0.8 * size_mask_weared_incorrect))\n",
    "valid_size_mask_weared_incorrect = int(np.floor(0.1 * size_mask_weared_incorrect))\n",
    "test_size_mask_weared_incorrect = size_mask_weared_incorrect - train_size_mask_weared_incorrect - valid_size_mask_weared_incorrect\n",
    "\n",
    "train_idx_with_mask = train_size_with_mask\n",
    "valid_idx_with_mask = train_size_with_mask + valid_size_with_mask\n",
    "test_idx_with_mask = train_size_with_mask + valid_size_with_mask + test_size_with_mask\n",
    "\n",
    "train_idx_without_mask = train_size_without_mask\n",
    "valid_idx_without_mask = train_size_without_mask + valid_size_without_mask\n",
    "test_idx_without_mask = train_size_without_mask + valid_size_without_mask + test_size_without_mask\n",
    "\n",
    "train_idx_mask_weared_incorrect = train_size_mask_weared_incorrect\n",
    "valid_idx_mask_weared_incorrect = train_size_mask_weared_incorrect + valid_size_mask_weared_incorrect\n",
    "test_idx_mask_weared_incorrect = train_size_mask_weared_incorrect + valid_size_mask_weared_incorrect + test_size_mask_weared_incorrect"
   ]
  },
  {
   "cell_type": "markdown",
   "id": "opponent-nudist",
   "metadata": {},
   "source": [
    "### Przekopiowanie odpowiedniej liczby zdjęć do odpowiednich folderów"
   ]
  },
  {
   "cell_type": "code",
   "execution_count": 264,
   "id": "standard-whole",
   "metadata": {},
   "outputs": [
    {
     "name": "stdout",
     "output_type": "stream",
     "text": [
      "with_mask - zbiór treningowy 2586\n",
      "with_mask - zbiór walidacyjny 323\n",
      "with_mask - zbiór testowy 323\n",
      "without_mask - zbiór treningowy 574\n",
      "without_mask - zbiór walidacyjny 71\n",
      "without_mask - zbiór testowy 72\n",
      "mask_weared_incorrect - zbiór treningowy 99\n",
      "mask_weared_incorrect - zbiór walidacyjny 12\n",
      "mask_weared_incorrect - zbiór testowy 12\n"
     ]
    }
   ],
   "source": [
    "for i, fname in enumerate(with_mask_fnames):\n",
    "    if i <= train_idx_with_mask:\n",
    "        src = os.path.join(r'./Data/images_after_preprocessing/with_mask',fname)\n",
    "        dst = os.path.join(train_with_mask_dir, fname)\n",
    "        shutil.copyfile(src, dst)\n",
    "    elif train_idx_with_mask < i <= valid_idx_with_mask:\n",
    "        src = os.path.join(r'./Data/images_after_preprocessing/with_mask',fname)\n",
    "        dst = os.path.join(valid_with_mask_dir, fname)\n",
    "        shutil.copyfile(src, dst)\n",
    "    elif valid_idx_with_mask < i < test_idx_with_mask:\n",
    "        src = os.path.join(r'./Data/images_after_preprocessing/with_mask',fname)\n",
    "        dst = os.path.join(test_with_mask_dir, fname)\n",
    "        shutil.copyfile(src, dst)\n",
    "\n",
    "for i, fname in enumerate(without_mask_fnames):\n",
    "    if i <= train_idx_without_mask:\n",
    "        src = os.path.join(r'./Data/images_after_preprocessing/without_mask',fname)\n",
    "        dst = os.path.join(train_without_mask_dir, fname)\n",
    "        shutil.copyfile(src, dst)\n",
    "    elif train_idx_without_mask < i <= valid_idx_without_mask:\n",
    "        src = os.path.join(r'./Data/images_after_preprocessing/without_mask',fname)\n",
    "        dst = os.path.join(valid_without_mask_dir, fname)\n",
    "        shutil.copyfile(src, dst)\n",
    "    elif valid_idx_without_mask < i < test_idx_without_mask:\n",
    "        src = os.path.join(r'./Data/images_after_preprocessing/without_mask',fname)\n",
    "        dst = os.path.join(test_without_mask_dir, fname)\n",
    "        shutil.copyfile(src, dst) \n",
    "\n",
    "for i, fname in enumerate(mask_weared_incorrect_fnames):\n",
    "    if i <= train_idx_mask_weared_incorrect:\n",
    "        src = os.path.join(r'./Data\\images_after_preprocessing\\mask_weared_incorrect',fname)\n",
    "        dst = os.path.join(train_mask_weared_incorrect_dir, fname)\n",
    "        shutil.copyfile(src, dst)\n",
    "    elif train_idx_mask_weared_incorrect < i <= valid_idx_mask_weared_incorrect:\n",
    "        src = os.path.join(r'./Data\\images_after_preprocessing\\mask_weared_incorrect',fname)\n",
    "        dst = os.path.join(valid_mask_weared_incorrect_dir, fname)\n",
    "        shutil.copyfile(src, dst)\n",
    "    elif valid_idx_mask_weared_incorrect < i < test_idx_mask_weared_incorrect:\n",
    "        src = os.path.join(r'./Data\\images_after_preprocessing\\mask_weared_incorrect',fname)\n",
    "        dst = os.path.join(test_mask_weared_incorrect_dir, fname)\n",
    "        shutil.copyfile(src, dst)        \n",
    "\n",
    "print('with_mask - zbiór treningowy', len(os.listdir(train_with_mask_dir)))\n",
    "print('with_mask - zbiór walidacyjny', len(os.listdir(valid_with_mask_dir)))\n",
    "print('with_mask - zbiór testowy', len(os.listdir(test_with_mask_dir)))\n",
    "\n",
    "print('without_mask - zbiór treningowy', len(os.listdir(train_without_mask_dir)))\n",
    "print('without_mask - zbiór walidacyjny', len(os.listdir(valid_without_mask_dir)))\n",
    "print('without_mask - zbiór testowy', len(os.listdir(test_without_mask_dir))) \n",
    "\n",
    "print('mask_weared_incorrect - zbiór treningowy', len(os.listdir(train_mask_weared_incorrect_dir)))\n",
    "print('mask_weared_incorrect - zbiór walidacyjny', len(os.listdir(valid_mask_weared_incorrect_dir)))\n",
    "print('mask_weared_incorrect - zbiór testowy', len(os.listdir(test_mask_weared_incorrect_dir)))"
   ]
  },
  {
   "cell_type": "code",
   "execution_count": null,
   "id": "processed-radius",
   "metadata": {},
   "outputs": [],
   "source": []
  },
  {
   "cell_type": "code",
   "execution_count": null,
   "id": "distant-receipt",
   "metadata": {},
   "outputs": [],
   "source": []
  }
 ],
 "metadata": {
  "kernelspec": {
   "display_name": "Python 3",
   "language": "python",
   "name": "python3"
  },
  "language_info": {
   "codemirror_mode": {
    "name": "ipython",
    "version": 3
   },
   "file_extension": ".py",
   "mimetype": "text/x-python",
   "name": "python",
   "nbconvert_exporter": "python",
   "pygments_lexer": "ipython3",
   "version": "3.8.5"
  }
 },
 "nbformat": 4,
 "nbformat_minor": 5
}
